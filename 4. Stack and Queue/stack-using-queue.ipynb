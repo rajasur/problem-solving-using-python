{
 "cells": [
  {
   "cell_type": "markdown",
   "id": "f4541086",
   "metadata": {},
   "source": [
    "# Implement Stack Using Queue\n",
    "\n",
    "## Intuition\n",
    "\n",
    "To implement a stack (LIFO) using a queue (FIFO), we need to simulate stack operations using queue operations.\n",
    "\n",
    "### Push(x)\n",
    "- Add the element at the end of the queue.\n",
    "- Rotate the queue by moving the first `n-1` elements to the back, so the newly added element comes to the front.\n",
    "\n",
    "### Pop()\n",
    "- Remove the element from the front of the queue.\n",
    "\n",
    "---\n",
    "\n",
    "## Pseudocode\n",
    "\n",
    "**Push(x):**\n",
    "1. Enqueue `x` to the queue.\n",
    "2. For `i` in `1` to `size of queue - 1`:\n",
    "    - Dequeue an element and enqueue it back.\n",
    "\n",
    "**Pop():**\n",
    "1. Dequeue and return the front element of the queue.\n",
    "\n",
    "---\n",
    "\n",
    "## Example\n",
    "\n",
    "Suppose we push 1, then 2, then 3:\n",
    "\n",
    "- After pushing 1: `[1]`\n",
    "- After pushing 2: `[2, 1]` (rotate after enqueue)\n",
    "- After pushing 3: `[3, 2, 1]` (rotate after enqueue)\n",
    "\n",
    "Pop will remove 3 (LIFO behavior)."
   ]
  },
  {
   "cell_type": "code",
   "execution_count": 4,
   "id": "0636a020",
   "metadata": {},
   "outputs": [
    {
     "name": "stdout",
     "output_type": "stream",
     "text": [
      "Stack elements (from top to bottom): [400, 300, 200, 100]\n",
      "Pop: 400\n",
      "Stack elements (from top to bottom): [300, 200, 100]\n",
      "Peek: 300\n",
      "Is empty: False\n",
      "Size: 3\n"
     ]
    }
   ],
   "source": [
    "from collections import deque\n",
    "\n",
    "class StackUsingQueue:\n",
    "    def __init__(self):\n",
    "        self.queue = deque()\n",
    "\n",
    "    def push(self, x):\n",
    "        self.queue.append(x)\n",
    "        for _ in range(len(self.queue) - 1):\n",
    "            self.queue.append(self.queue.popleft()) \n",
    "\n",
    "    def pop(self):\n",
    "        if len(self.queue) == 0:\n",
    "            return \"Stack is empty.\"\n",
    "        else:\n",
    "            return self.queue[0]\n",
    "        \n",
    "    def peek(self):\n",
    "        if len(self.queue) == 0:\n",
    "            return \"Stack is empty.\"\n",
    "        else:\n",
    "            return self.queue[0]\n",
    "        \n",
    "    def is_empty(self):\n",
    "        return len(self.queue) == 0 \n",
    "    \n",
    "    def size(self):\n",
    "        return len(self.queue)\n",
    "    \n",
    "if __name__ == \"__main__\":\n",
    "    stack = StackUsingQueue()\n",
    "    stack.push(100)\n",
    "    stack.push(200)\n",
    "    stack.push(300)\n",
    "    stack.push(400)\n",
    "    print(\"Stack elements (from top to bottom):\", list(stack.queue))\n",
    "    print(\"Pop:\", stack.pop())\n",
    "    stack.queue.popleft()  # Actually remove the top element after pop\n",
    "    print(\"Stack elements (from top to bottom):\", list(stack.queue))\n",
    "    print(\"Peek:\", stack.peek())\n",
    "    print(\"Is empty:\", stack.is_empty())\n",
    "    print(\"Size:\", stack.size())\n",
    "\n",
    "\n",
    "\n",
    "\n"
   ]
  }
 ],
 "metadata": {
  "kernelspec": {
   "display_name": ".venv (3.13.7)",
   "language": "python",
   "name": "python3"
  },
  "language_info": {
   "codemirror_mode": {
    "name": "ipython",
    "version": 3
   },
   "file_extension": ".py",
   "mimetype": "text/x-python",
   "name": "python",
   "nbconvert_exporter": "python",
   "pygments_lexer": "ipython3",
   "version": "3.13.7"
  }
 },
 "nbformat": 4,
 "nbformat_minor": 5
}
