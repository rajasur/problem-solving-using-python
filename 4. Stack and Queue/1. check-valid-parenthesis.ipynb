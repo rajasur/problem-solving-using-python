{
 "cells": [
  {
   "cell_type": "markdown",
   "id": "88fd5ba4",
   "metadata": {},
   "source": [
    "# 20. Valid Parentheses\n",
    "\n",
    "**Difficulty:** Easy\n",
    "\n",
    "---\n",
    "\n",
    "Given a string `s` containing just the characters `'('`, `')'`, `'{'`, `'}'`, `'['` and `']'`, determine if the input string is valid.\n",
    "\n",
    "A string is valid if:\n",
    "\n",
    "- Open brackets must be closed by the same type of brackets.\n",
    "- Open brackets must be closed in the correct order.\n",
    "- Every close bracket has a corresponding open bracket of the same type.\n",
    "\n",
    "---\n",
    "\n",
    "## Examples\n",
    "\n",
    "**Example 1:**\n",
    "\n",
    "- Input: `s = \"()\"`  \n",
    "- Output: `true`\n",
    "\n",
    "**Example 2:**\n",
    "\n",
    "- Input: `s = \"()[]{}\"`  \n",
    "- Output: `true`\n",
    "\n",
    "**Example 3:**\n",
    "\n",
    "- Input: `s = \"(]\"`  \n",
    "- Output: `false`\n",
    "\n",
    "**Example 4:**\n",
    "\n",
    "- Input: `s = \"([])\"`  \n",
    "- Output: `true`\n",
    "\n",
    "**Example 5:**\n",
    "\n",
    "- Input: `s = \"([)]\"`  \n",
    "- Output: `false`\n"
   ]
  },
  {
   "cell_type": "code",
   "execution_count": 2,
   "id": "15d2ecad",
   "metadata": {},
   "outputs": [
    {
     "name": "stdout",
     "output_type": "stream",
     "text": [
      "True\n"
     ]
    }
   ],
   "source": [
    "class validParenthesis:\n",
    "    def valid_parenthesis(self, paranthesis):\n",
    "        self.stack = []\n",
    "        for bracket in paranthesis:\n",
    "            if bracket == \"(\" or bracket == \"{\" or bracket == \"[\":\n",
    "                self.stack.append(bracket)\n",
    "            else:\n",
    "                if len(self.stack) == 0:\n",
    "                    return False\n",
    "                ch = self.stack.pop()\n",
    "                if (\n",
    "                    (bracket == \")\" and ch == \"(\") or\n",
    "                    (bracket == \"}\" and ch == \"{\") or\n",
    "                    (bracket == \"]\" and ch == \"[\")\n",
    "                ):\n",
    "                    continue\n",
    "                else:\n",
    "                    return False \n",
    "        return len(self.stack) == 0\n",
    "    \n",
    "if __name__ == \"__main__\":\n",
    "    paranthesis = \"()[]{}\"\n",
    "    obj = validParenthesis()\n",
    "    print(obj.valid_parenthesis(paranthesis))\n"
   ]
  },
  {
   "cell_type": "code",
   "execution_count": null,
   "id": "121c9593",
   "metadata": {},
   "outputs": [],
   "source": []
  }
 ],
 "metadata": {
  "kernelspec": {
   "display_name": ".venv",
   "language": "python",
   "name": "python3"
  },
  "language_info": {
   "codemirror_mode": {
    "name": "ipython",
    "version": 3
   },
   "file_extension": ".py",
   "mimetype": "text/x-python",
   "name": "python",
   "nbconvert_exporter": "python",
   "pygments_lexer": "ipython3",
   "version": "3.13.7"
  }
 },
 "nbformat": 4,
 "nbformat_minor": 5
}
