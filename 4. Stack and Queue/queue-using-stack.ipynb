{
 "cells": [
  {
   "cell_type": "markdown",
   "id": "c996e77e",
   "metadata": {},
   "source": [
    "# Implementation: Queue Using Stacks\n",
    "\n",
    "---\n",
    "\n",
    "## Algorithm\n",
    "\n",
    "### **push(x)**\n",
    "1. Transfer all elements from `stack1` to `stack2`.\n",
    "2. Insert `x` into `stack1`.\n",
    "3. Transfer all elements back from `stack2` to `stack1`.\n",
    "\n",
    "### **pop()**\n",
    "- Remove and return the top element from `stack1`.\n",
    "\n",
    "### **peek()**\n",
    "- Return the top element of `stack1` without removing it."
   ]
  },
  {
   "cell_type": "code",
   "execution_count": 12,
   "id": "212ac191",
   "metadata": {},
   "outputs": [
    {
     "name": "stdout",
     "output_type": "stream",
     "text": [
      "[300, 200, 100]\n",
      "Rear element is : 300\n",
      "Front Element is : 100\n",
      "Dequeue of the element is: 200\n",
      "Dequeue of the element is: 300\n",
      "Elements are after dequeue: []\n"
     ]
    }
   ],
   "source": [
    "class QueueUsingTwoStack:\n",
    "    def __init__(self):\n",
    "        self.stk1 = []\n",
    "        self.stk2 = []\n",
    "\n",
    "    def enqueue(self, x):\n",
    "        while self.stk1:\n",
    "            self.stk2.append(self.stk1.pop())\n",
    "        self.stk1.append(x)\n",
    "        while self.stk2:\n",
    "            self.stk1.append(self.stk2.pop())\n",
    "\n",
    "    def dequeue(self):\n",
    "        if len(self.stk1) == 0:\n",
    "            return \"queue is empty\"\n",
    "        else:\n",
    "            return self.stk1.pop()\n",
    "        \n",
    "    def front(self):\n",
    "        if len(self.stk1) == 0:\n",
    "            return \"queue is empty\"\n",
    "        else:\n",
    "            return self.stk1.pop()\n",
    "        \n",
    "    def rear(self):\n",
    "        if len(self.stk1) == 0:\n",
    "            return \"queue is empty\"\n",
    "        else:\n",
    "            return self.stk1[0]\n",
    "        \n",
    "    def is_empty(self):\n",
    "        return not self.stk1\n",
    "    \n",
    "if __name__ == \"__main__\":\n",
    "    queue = QueueUsingTwoStack()\n",
    "    queue.enqueue(100)\n",
    "    queue.enqueue(200)\n",
    "    queue.enqueue(300)\n",
    "    print(queue.stk1)\n",
    "    print(f\"Rear element is : {queue.rear()}\")\n",
    "    print(f\"Front Element is : {queue.front()}\")\n",
    "\n",
    "    print(f\"Dequeue of the element is: {queue.dequeue()}\")\n",
    "    print(f\"Dequeue of the element is: {queue.dequeue()}\")\n",
    "\n",
    "    print(f\"Elements are after dequeue: {queue.stk1}\")\n",
    "        \n"
   ]
  }
 ],
 "metadata": {
  "kernelspec": {
   "display_name": ".venv (3.13.7)",
   "language": "python",
   "name": "python3"
  },
  "language_info": {
   "codemirror_mode": {
    "name": "ipython",
    "version": 3
   },
   "file_extension": ".py",
   "mimetype": "text/x-python",
   "name": "python",
   "nbconvert_exporter": "python",
   "pygments_lexer": "ipython3",
   "version": "3.13.7"
  }
 },
 "nbformat": 4,
 "nbformat_minor": 5
}
