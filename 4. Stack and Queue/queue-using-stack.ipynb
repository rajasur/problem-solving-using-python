{
 "cells": [
  {
   "cell_type": "markdown",
   "id": "c996e77e",
   "metadata": {},
   "source": [
    "# Implementation: Queue Using Stacks\n",
    "\n",
    "---\n",
    "\n",
    "## Algorithm\n",
    "\n",
    "### **push(x)**\n",
    "1. Transfer all elements from `stack1` to `stack2`.\n",
    "2. Insert `x` into `stack1`.\n",
    "3. Transfer all elements back from `stack2` to `stack1`.\n",
    "\n",
    "### **pop()**\n",
    "- Remove and return the top element from `stack1`.\n",
    "\n",
    "### **peek()**\n",
    "- Return the top element of `stack1` without removing it."
   ]
  },
  {
   "cell_type": "code",
   "execution_count": 1,
   "id": "212ac191",
   "metadata": {},
   "outputs": [
    {
     "name": "stdout",
     "output_type": "stream",
     "text": [
      "[300, 200, 100]\n",
      "Rear element is : 300\n",
      "Front Element is : 100\n",
      "Dequeue of the element is: 100\n",
      "Dequeue of the element is: 200\n",
      "Elements are after dequeue: [300]\n"
     ]
    }
   ],
   "source": [
    "class QueueUsingTwoStack:\n",
    "    def __init__(self):\n",
    "        # Initialize two stacks\n",
    "        self.stk1 = []\n",
    "        self.stk2 = []\n",
    "\n",
    "    def enqueue(self, x):\n",
    "        # Move all elements from stk1 to stk2\n",
    "        while self.stk1:\n",
    "            self.stk2.append(self.stk1.pop()) # O(n)\n",
    "        # Push the new element onto stk1\n",
    "        self.stk1.append(x)\n",
    "        # Move everything back to stk1\n",
    "        while self.stk2:\n",
    "            self.stk1.append(self.stk2.pop()) # O(n)\n",
    "\n",
    "    def dequeue(self):\n",
    "        # Remove and return the front element\n",
    "        if len(self.stk1) == 0:\n",
    "            return \"queue is empty\"\n",
    "        else:\n",
    "            return self.stk1.pop()\n",
    "        \n",
    "    def front(self):\n",
    "        # Return the front element without removing it\n",
    "        if len(self.stk1) == 0:\n",
    "            return \"queue is empty\"\n",
    "        else:\n",
    "            return self.stk1[-1]\n",
    "        \n",
    "    def rear(self):\n",
    "        # Return the rear element (oldest element)\n",
    "        if len(self.stk1) == 0:\n",
    "            return \"queue is empty\"\n",
    "        else:\n",
    "            return self.stk1[0]\n",
    "        \n",
    "    def is_empty(self):\n",
    "        # Check if the queue is empty\n",
    "        return not self.stk1\n",
    "\n",
    "# Time Complexity:\n",
    "# enqueue: O(n) (due to moving elements between stacks)\n",
    "# dequeue: O(1)\n",
    "# front: O(1)\n",
    "# rear: O(1)\n",
    "# is_empty: O(1)\n",
    "\n",
    "# Space Complexity: O(n) (where n is the number of elements in the queue)\n",
    "\n",
    "if __name__ == \"__main__\":\n",
    "    queue = QueueUsingTwoStack()\n",
    "    queue.enqueue(100)\n",
    "    queue.enqueue(200)\n",
    "    queue.enqueue(300)\n",
    "    print(queue.stk1)\n",
    "    print(f\"Rear element is : {queue.rear()}\")\n",
    "    print(f\"Front Element is : {queue.front()}\")\n",
    "\n",
    "    print(f\"Dequeue of the element is: {queue.dequeue()}\")\n",
    "    print(f\"Dequeue of the element is: {queue.dequeue()}\")\n",
    "\n",
    "    print(f\"Elements are after dequeue: {queue.stk1}\")\n"
   ]
  },
  {
   "cell_type": "code",
   "execution_count": null,
   "id": "1a4d5323",
   "metadata": {},
   "outputs": [],
   "source": []
  }
 ],
 "metadata": {
  "kernelspec": {
   "display_name": ".venv",
   "language": "python",
   "name": "python3"
  },
  "language_info": {
   "codemirror_mode": {
    "name": "ipython",
    "version": 3
   },
   "file_extension": ".py",
   "mimetype": "text/x-python",
   "name": "python",
   "nbconvert_exporter": "python",
   "pygments_lexer": "ipython3",
   "version": "3.13.7"
  }
 },
 "nbformat": 4,
 "nbformat_minor": 5
}
