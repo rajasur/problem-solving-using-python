{
 "cells": [
  {
   "cell_type": "markdown",
   "id": "80d8ef03",
   "metadata": {},
   "source": [
    "### What is Stack?\n",
    "**Ans:** A stack can store any type of data.\n",
    "\n",
    "### What mechanism is used?\n",
    "**Ans:** LIFO (Last In, First Out)"
   ]
  },
  {
   "cell_type": "markdown",
   "id": "d7c16361",
   "metadata": {},
   "source": [
    "### Different operations in stack\n",
    "---\n",
    "\n",
    "1. **push**\n",
    "2. **pop**\n",
    "3. **top**\n",
    "4. **size**"
   ]
  },
  {
   "cell_type": "code",
   "execution_count": null,
   "id": "595a1e9a",
   "metadata": {},
   "outputs": [
    {
     "name": "stdout",
     "output_type": "stream",
     "text": [
      "Stack content = [5, 10, 15]\n",
      "popped item = 15\n",
      "Stack content = [5, 10]\n",
      "Top item after pop = 10\n",
      "Stack is empty: False\n",
      "popped item = 10\n",
      "Stack content = [5]\n",
      "popped item = 5\n",
      "Stack content = []\n",
      "Stack is empty: True\n"
     ]
    }
   ],
   "source": [
    "class Stack:\n",
    "    def __init__(self):\n",
    "        self.items = []\n",
    "\n",
    "    def is_empty(self):\n",
    "        return len(self.items) == 0  # TC: O(1), SC: O(1)\n",
    "    \n",
    "    def push(self, item):\n",
    "        self.items.append(item)      # TC: O(1), SC: O(1) per operation\n",
    "    \n",
    "    def pop(self):\n",
    "        if len(self.items) == 0:\n",
    "            return \"Cannot pop, stack is empty\"\n",
    "        x = self.items.pop()         # TC: O(1), SC: O(1) per operation\n",
    "        return x\n",
    "    \n",
    "    def top(self):\n",
    "        if len(self.items) == 0:\n",
    "            return \"Cannot top, Stack is empty\"\n",
    "        return self.items[-1]        # TC: O(1), SC: O(1)\n",
    "    \n",
    "    def size(self):\n",
    "        return len(self.items)       # TC: O(1), SC: O(1)\n",
    "    # Overall space complexity for the stack: O(n), where n is the number of elements in the stack\n",
    "    \n",
    "stack = Stack()\n",
    "stack.push(5)\n",
    "stack.push(10)\n",
    "stack.push(15)\n",
    "print(f\"Stack content = {stack.items}\")\n",
    "print(f\"popped item = {stack.pop()}\")\n",
    "print(f\"Stack content = {stack.items}\")\n",
    "print(f\"Top item after pop = {stack.top()}\")\n",
    "print(f\"Stack is empty: {stack.is_empty()}\")\n",
    "print(f\"popped item = {stack.pop()}\")\n",
    "print(f\"Stack content = {stack.items}\")\n",
    "print(f\"popped item = {stack.pop()}\")\n",
    "print(f\"Stack content = {stack.items}\")\n",
    "print(f\"Stack is empty: {stack.is_empty()}\")"
   ]
  }
 ],
 "metadata": {
  "kernelspec": {
   "display_name": ".venv",
   "language": "python",
   "name": "python3"
  },
  "language_info": {
   "codemirror_mode": {
    "name": "ipython",
    "version": 3
   },
   "file_extension": ".py",
   "mimetype": "text/x-python",
   "name": "python",
   "nbconvert_exporter": "python",
   "pygments_lexer": "ipython3",
   "version": "3.13.7"
  }
 },
 "nbformat": 4,
 "nbformat_minor": 5
}
