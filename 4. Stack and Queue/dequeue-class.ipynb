{
 "cells": [
  {
   "cell_type": "markdown",
   "id": "77415e0b",
   "metadata": {},
   "source": [
    "## Understanding the `deque` Class from Python’s `collections` Module\n",
    "\n",
    "The `deque` (double-ended queue) allows insertion and deletion from both ends in **O(1)** time. It’s an essential tool for efficiently solving sliding window, BFS, and queue-based problems.\n",
    "\n",
    "---\n",
    "\n",
    "### 📚 What You’ll Learn\n",
    "\n",
    "- **What is a deque?**  \n",
    "    A `deque` (double-ended queue) is a data structure from Python’s `collections` module that allows fast appends and pops from both ends. Unlike lists, deques are optimized for O(1) insertions and deletions at both the front and back, making them ideal for queue and stack implementations.\n",
    "\n",
    "- **Deque vs List:**  \n",
    "    While lists provide O(1) time for appending and popping at the end, operations at the beginning (like `insert(0, x)` or `pop(0)`) are O(n) due to shifting elements. In contrast, deques offer O(1) time complexity for these operations at both ends, making them more efficient for use cases requiring frequent insertions/removals from both sides.\n",
    "\n",
    "- **Commonly Used Methods:**\n",
    "    - `append()` – O(1)\n",
    "    - `appendleft()` – O(1)\n",
    "    - `pop()` – O(1)\n",
    "    - `popleft()` – O(1)\n",
    "\n",
    "- **Internal Working:**  \n",
    "    Under the hood, `deque` is implemented as a doubly linked list of blocks, allowing fast access and modification at both ends. This structure avoids the costly shifting of elements seen in lists.\n",
    "\n",
    "- **When to Use Deque:**  \n",
    "    Use `deque` when you need fast, frequent insertions or deletions from both ends of a sequence. Common scenarios include implementing queues, stacks, sliding window algorithms, and problems where elements need to be efficiently added or removed from either side.\n",
    "\n",
    "---\n",
    "\n",
    "### 💡 Why Is This Important?\n",
    "\n",
    "Deque is a powerful, built-in data structure that helps optimize problems requiring efficient operations on both ends.  \n",
    "It’s widely used in:\n",
    "\n",
    "- Sliding Window\n",
    "- LRU Cache\n",
    "- BFS\n",
    "- Monotonic Queue problems"
   ]
  },
  {
   "cell_type": "markdown",
   "id": "56935876",
   "metadata": {},
   "source": []
  },
  {
   "cell_type": "code",
   "execution_count": 3,
   "id": "c0369d7a",
   "metadata": {},
   "outputs": [
    {
     "name": "stdout",
     "output_type": "stream",
     "text": [
      "deque list items are: deque([100, 200, 300])\n",
      "deque list items after appendleft are: deque([9, 1, 100, 200, 300])\n",
      "deque list items after pop are: deque([9, 1, 100, 200])\n",
      "deque list items after popleft are: deque([1, 100, 200])\n"
     ]
    }
   ],
   "source": [
    "# Example code\n",
    "from collections import deque\n",
    "\n",
    "lst = deque()\n",
    "\n",
    "lst.append(100)\n",
    "lst.append(200)\n",
    "lst.append(300)\n",
    "\n",
    "print(f\"deque list items are: {lst}\")\n",
    "\n",
    "lst.appendleft(1)\n",
    "lst.appendleft(9)\n",
    "\n",
    "print(f\"deque list items after appendleft are: {lst}\")\n",
    "\n",
    "lst.pop()\n",
    "\n",
    "print(f\"deque list items after pop are: {lst}\")\n",
    "\n",
    "lst.popleft()\n",
    "print(f\"deque list items after popleft are: {lst}\")\n"
   ]
  }
 ],
 "metadata": {
  "kernelspec": {
   "display_name": ".venv",
   "language": "python",
   "name": "python3"
  },
  "language_info": {
   "codemirror_mode": {
    "name": "ipython",
    "version": 3
   },
   "file_extension": ".py",
   "mimetype": "text/x-python",
   "name": "python",
   "nbconvert_exporter": "python",
   "pygments_lexer": "ipython3",
   "version": "3.13.7"
  }
 },
 "nbformat": 4,
 "nbformat_minor": 5
}
