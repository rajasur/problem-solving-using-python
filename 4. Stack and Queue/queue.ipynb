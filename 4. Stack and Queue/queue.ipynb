{
 "cells": [
  {
   "cell_type": "markdown",
   "id": "ca9da76f",
   "metadata": {},
   "source": [
    "## Important Notes on Queue\n",
    "\n",
    "- **Definition**: A queue is a linear data structure that follows the First-In-First-Out (FIFO) principle. The first element added to the queue will be the first one to be removed.\n",
    "\n",
    "- **Basic Operations**:\n",
    "    - **Enqueue**: Add an element to the rear of the queue.\n",
    "    - **Dequeue**: Remove and return the element from the front of the queue.\n",
    "    - **Front**: Retrieve the front element without removing it.\n",
    "    - **Rear**: Retrieve the last element without removing it.\n",
    "    - **is_empty**: Check if the queue is empty.\n",
    "    - **size**: Get the number of elements in the queue.\n",
    "\n",
    "- **Time Complexity**:\n",
    "    - Enqueue: O(1)\n",
    "    - Dequeue: O(n) (for list-based implementation, as removing from the front requires shifting elements)\n",
    "    - Front/Rear/Size/Is_empty: O(1)\n",
    "\n",
    "- **Applications**:\n",
    "    - Used in scheduling processes in operating systems.\n",
    "    - Useful in breadth-first search (BFS) algorithms.\n",
    "    - Employed in handling requests in web servers, printers, and other resource management systems.\n",
    "\n",
    "- **Implementation**: Can be implemented using arrays, lists, or linked lists. For efficient dequeue operations, a linked list or collections.deque is preferred in Python.\n",
    "\n",
    "- **Space Complexity**: O(n), where n is the number of elements in the queue."
   ]
  },
  {
   "cell_type": "code",
   "execution_count": 1,
   "id": "ed855cd6",
   "metadata": {},
   "outputs": [
    {
     "name": "stdout",
     "output_type": "stream",
     "text": [
      "Queue content = [5, 10, 15]\n",
      "Dequeued item = 5\n",
      "Queue content = [10, 15]\n",
      "Front item after dequeue = 10\n",
      "Rear item = 15\n",
      "Queue is empty: False\n",
      "Dequeued item = 10\n",
      "Queue content = [15]\n",
      "Dequeued item = 15\n",
      "Queue content = []\n",
      "Queue is empty: True\n"
     ]
    }
   ],
   "source": [
    "class Queue:\n",
    "    def __init__(self):\n",
    "        self.items = []\n",
    "        \n",
    "    def is_empty(self):\n",
    "        return len(self.items) == 0  # TC: O(1), SC: O(1)\n",
    "\n",
    "    def enqueue(self, item):\n",
    "        self.items.append(item)      # TC: O(1), SC: O(1) per operation\n",
    "\n",
    "    def dequeue(self):\n",
    "        if len(self.items) == 0:\n",
    "            return \"Cannot dequeue, queue is empty\"\n",
    "        x = self.items.pop(0)        # TC: O(n), SC: O(1) per operation\n",
    "        return x\n",
    "\n",
    "    def front(self):\n",
    "        if len(self.items) == 0:\n",
    "            return \"Cannot front, queue is empty\"\n",
    "        return self.items[0]         # TC: O(1), SC: O(1)\n",
    "\n",
    "    def rear(self):\n",
    "        if len(self.items) == 0:\n",
    "            return \"Cannot rear, queue is empty\"\n",
    "        return self.items[-1]        # TC: O(1), SC: O(1)\n",
    "    \n",
    "    def size(self):\n",
    "        return len(self.items)       # TC: O(1), SC: O(1)\n",
    "    # Overall space complexity for the queue: O(n), where n is the number of elements in the queue\n",
    "    \n",
    "if __name__ == \"__main__\":\n",
    "    q = Queue()\n",
    "    q.enqueue(5)\n",
    "    q.enqueue(10)\n",
    "    q.enqueue(15)\n",
    "    print(f\"Queue content = {q.items}\")\n",
    "    print(f\"Dequeued item = {q.dequeue()}\")\n",
    "    print(f\"Queue content = {q.items}\")\n",
    "    print(f\"Front item after dequeue = {q.front()}\")\n",
    "    print(f\"Rear item = {q.rear()}\")\n",
    "    print(f\"Queue is empty: {q.is_empty()}\")\n",
    "    print(f\"Dequeued item = {q.dequeue()}\")\n",
    "    print(f\"Queue content = {q.items}\")\n",
    "    print(f\"Dequeued item = {q.dequeue()}\")\n",
    "    print(f\"Queue content = {q.items}\")\n",
    "    print(f\"Queue is empty: {q.is_empty()}\")\n"
   ]
  }
 ],
 "metadata": {
  "kernelspec": {
   "display_name": ".venv",
   "language": "python",
   "name": "python3"
  },
  "language_info": {
   "codemirror_mode": {
    "name": "ipython",
    "version": 3
   },
   "file_extension": ".py",
   "mimetype": "text/x-python",
   "name": "python",
   "nbconvert_exporter": "python",
   "pygments_lexer": "ipython3",
   "version": "3.13.7"
  }
 },
 "nbformat": 4,
 "nbformat_minor": 5
}
