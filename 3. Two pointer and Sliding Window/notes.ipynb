{
 "cells": [
  {
   "cell_type": "markdown",
   "id": "583c3b94",
   "metadata": {},
   "source": [
    "## Problem Statement\n",
    "\n",
    "## Problem Statement\n",
    "\n",
    "Given a string, find the length of the longest substring without any repeating character.\n",
    "\n",
    "### Examples\n",
    "\n",
    "**Example 1:**\n",
    "\n",
    "- **Input:** `s = \"abcabcbb\"`\n",
    "- **Output:** `3`\n",
    "- **Explanation:** The answer is `\"abc\"` with length of 3.\n",
    "\n",
    "**Example 2:**\n",
    "\n",
    "- **Input:** `s = \"bbbbb\"`\n",
    "- **Output:** `1`\n",
    "- **Explanation:** The answer is `\"b\"` with length of 1.\n",
    "\n",
    "[Video Link](https://www.youtube.com/watch?v=_zpYpeIREPE)"
   ]
  },
  {
   "cell_type": "code",
   "execution_count": 1,
   "id": "c7e24e27",
   "metadata": {},
   "outputs": [
    {
     "name": "stdout",
     "output_type": "stream",
     "text": [
      "The length of the longest substring without repeating characters is 3\n"
     ]
    }
   ],
   "source": [
    "# This problem is solved by using two pinter and sliding window\n",
    "\n",
    "class Solution:\n",
    "    def lengthofLongestSubstring(self, s: str) -> int:\n",
    "        dictonary = {}\n",
    "\n",
    "\n",
    "        left = 0\n",
    "        right = 0\n",
    "        n = len(s)\n",
    "        maxlength = 0\n",
    "        while right < n: # O(n)\n",
    "            if s[right] in dictonary: # O(1)\n",
    "                left = max(dictonary[s[right]] + 1, left)\n",
    "\n",
    "            maxlength = max(maxlength, right - left + 1) # O(1)\n",
    "            dictonary[s[right]] = right\n",
    "            right += 1\n",
    "        return maxlength\n",
    "\n",
    "\n",
    "if __name__ == \"__main__\":\n",
    "    str = \"abcabcbb\"\n",
    "    obj = Solution()\n",
    "    print(\"The length of the longest substring without repeating characters is\",\n",
    "          obj.lengthofLongestSubstring(str))\n",
    "\n",
    "# Time Complexity O(n)\n",
    "# Space Complexity O(1)"
   ]
  },
  {
   "cell_type": "markdown",
   "id": "a9855243",
   "metadata": {},
   "source": [
    "## 1004. Max Consecutive Ones III\n",
    "\n",
    "**Solved**  \n",
    "**Medium**\n",
    "\n",
    "Given a binary array `nums` and an integer `k`, return the maximum number of consecutive 1's in the array if you can flip at most `k` 0's.\n",
    "\n",
    "---\n",
    "\n",
    "### Example 1:\n",
    "\n",
    "**Input:**  \n",
    "nums = [1,1,1,0,0,0,1,1,1,1,0], k = 2\n",
    "\n",
    "**Output:**  \n",
    "6\n",
    "\n",
    "**Explanation:**  \n",
    "[1,1,1,0,0,**1**,1,1,1,1,**1**]  \n",
    "Bolded numbers were flipped from 0 to 1. The longest subarray is underlined.\n",
    "\n",
    "---\n",
    "\n",
    "### Example 2:\n",
    "\n",
    "**Input:**  \n",
    "nums = [0,0,1,1,0,0,1,1,1,0,1,1,0,0,0,1,1,1,1], k = 3\n",
    "\n",
    "**Output:**  \n",
    "10\n",
    "\n",
    "**Explanation:**  \n",
    "[0,0,1,1,**1**,**1**,1,1,1,**1**,1,1,0,0,0,1,1,1,1]  \n",
    "Bolded numbers were flipped from 0 to 1. The longest subarray is underlined.## 1004. Max Consecutive Ones III\n",
    "\n",
    "Given an array of 0s and 1s (`nums`) and an integer `k`, determine the length of the longest sequence of 1s you can obtain by flipping at most `k` zeros to ones.\n",
    "\n",
    "---\n",
    "\n",
    "### Example 1\n",
    "\n",
    "**Input:**  \n",
    "nums = [1, 1, 1, 0, 0, 0, 1, 1, 1, 1, 0], k = 2\n",
    "\n",
    "**Output:**  \n",
    "6\n",
    "\n",
    "**Explanation:**  \n",
    "By changing two zeros to ones, the longest stretch of 1s is 6.\n",
    "\n",
    "---\n",
    "\n",
    "### Example 2\n",
    "\n",
    "**Input:**  \n",
    "nums = [0, 0, 1, 1, 0, 0, 1, 1, 1, 0, 1, 1, 0, 0, 0, 1, 1, 1, 1], k = 3\n",
    "\n",
    "**Output:**  \n",
    "10\n",
    "\n",
    "**Explanation:**  \n",
    "Flipping three zeros allows for a sequence of ten consecutive 1s."
   ]
  },
  {
   "cell_type": "code",
   "execution_count": null,
   "id": "21015501",
   "metadata": {},
   "outputs": [
    {
     "name": "stdout",
     "output_type": "stream",
     "text": [
      "Length of longest substring of consecutive ones is: 10\n"
     ]
    }
   ],
   "source": [
    "# Bruteforce Approach\n",
    "# Time Complexity is O(n^2)\n",
    "# Space Complexity is O(1)\n",
    "\n",
    "from typing import *\n",
    "\n",
    "class Solution:\n",
    "    def lengthOfLongestSubString(self, nums: List[int], target: int) -> int:\n",
    "        n = len(nums)\n",
    "        max_length = 0\n",
    "        \n",
    "        for i in range(n):\n",
    "            zeros = 0\n",
    "            for j in range(i, n):\n",
    "                if nums[j] == 0:\n",
    "                    zeros += 1\n",
    "\n",
    "                if zeros > target:\n",
    "                    break\n",
    "\n",
    "                max_length = max(max_length, j - i + 1)\n",
    "        \n",
    "        return max_length\n",
    "    \n",
    "if __name__ == \"__main__\":\n",
    "   obj = Solution()\n",
    "   arr = [0,0,1,1,0,0,1,1,1,0,1,1,0,0,0,1,1,1,1]\n",
    "   k = 3\n",
    "   result = obj.lengthOfLongestSubString(arr, k)\n",
    "   print(f\"Length of longest substring of consecutive ones is: {result}\")"
   ]
  },
  {
   "cell_type": "code",
   "execution_count": 3,
   "id": "48c2e793",
   "metadata": {},
   "outputs": [
    {
     "name": "stdout",
     "output_type": "stream",
     "text": [
      "Length of longest substring of consecutive ones is: 6\n"
     ]
    }
   ],
   "source": [
    "# Better Solution\n",
    "# Time Complexity is O(n^2)\n",
    "# Space Complexity is O(1)\n",
    "\n",
    "from typing import *\n",
    "\n",
    "class Solution:\n",
    "    def lengthOflongestSubString(self, nums: List[int], target: int) -> int:\n",
    "        n = len(nums)\n",
    "        left, right = 0, 0\n",
    "        zeros, max_length = 0, 0\n",
    "\n",
    "        while( right < n):\n",
    "            if nums[right] == 0:\n",
    "               zeros += 1\n",
    "            while zeros > target:\n",
    "                if nums[left] == 0:\n",
    "                 zeros -= 1\n",
    "                left += 1\n",
    "            if zeros <= target: \n",
    "                max_length = max(max_length, (right-left+1))\n",
    "            right += 1\n",
    "        return max_length\n",
    "    \n",
    "if __name__ == \"__main__\":\n",
    "   obj = Solution()\n",
    "   arr = [1,1,1,0,0,0,1,1,1,1,0]\n",
    "   k = 2\n",
    "   result = obj.lengthOflongestSubString(arr, k)\n",
    "   print(f\"Length of longest substring of consecutive ones is: {result}\")  "
   ]
  },
  {
   "cell_type": "code",
   "execution_count": 4,
   "id": "0742697e",
   "metadata": {},
   "outputs": [
    {
     "name": "stdout",
     "output_type": "stream",
     "text": [
      "Length of longest substring of consecutive ones is: 6\n"
     ]
    }
   ],
   "source": [
    "# Most Optimal Solution\n",
    "# Time Complexity is O(n)\n",
    "# Space Complexity is O(1)\n",
    "\n",
    "from typing import *\n",
    "\n",
    "class Solution:\n",
    "    def lengthOflongestSubString(self, nums: List[int], target: int) -> int:\n",
    "        n = len(nums)\n",
    "        left, right = 0, 0\n",
    "        zeros, max_length = 0, 0\n",
    "\n",
    "        while( right < n):\n",
    "            if nums[right] == 0:\n",
    "               zeros += 1\n",
    "            if zeros > target:\n",
    "                if nums[left] == 0:\n",
    "                 zeros -= 1\n",
    "                left += 1\n",
    "            if zeros <= target: \n",
    "                max_length = max(max_length, (right-left+1))\n",
    "            right += 1\n",
    "        return max_length\n",
    "    \n",
    "if __name__ == \"__main__\":\n",
    "   obj = Solution()\n",
    "   arr = [1,1,1,0,0,0,1,1,1,1,0]\n",
    "   k = 2\n",
    "   result = obj.lengthOflongestSubString(arr, k)\n",
    "   print(f\"Length of longest substring of consecutive ones is: {result}\")    \n"
   ]
  },
  {
   "cell_type": "code",
   "execution_count": null,
   "id": "3a216b23",
   "metadata": {},
   "outputs": [],
   "source": []
  }
 ],
 "metadata": {
  "kernelspec": {
   "display_name": ".venv",
   "language": "python",
   "name": "python3"
  },
  "language_info": {
   "codemirror_mode": {
    "name": "ipython",
    "version": 3
   },
   "file_extension": ".py",
   "mimetype": "text/x-python",
   "name": "python",
   "nbconvert_exporter": "python",
   "pygments_lexer": "ipython3",
   "version": "3.13.7"
  }
 },
 "nbformat": 4,
 "nbformat_minor": 5
}
