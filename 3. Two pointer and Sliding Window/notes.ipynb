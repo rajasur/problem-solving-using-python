{
 "cells": [
  {
   "cell_type": "markdown",
   "id": "583c3b94",
   "metadata": {},
   "source": [
    "## Problem Statement\n",
    "\n",
    "## Problem Statement\n",
    "\n",
    "Given a string, find the length of the longest substring without any repeating character.\n",
    "\n",
    "### Examples\n",
    "\n",
    "**Example 1:**\n",
    "\n",
    "- **Input:** `s = \"abcabcbb\"`\n",
    "- **Output:** `3`\n",
    "- **Explanation:** The answer is `\"abc\"` with length of 3.\n",
    "\n",
    "**Example 2:**\n",
    "\n",
    "- **Input:** `s = \"bbbbb\"`\n",
    "- **Output:** `1`\n",
    "- **Explanation:** The answer is `\"b\"` with length of 1.\n",
    "\n",
    "[Video Link](https://www.youtube.com/watch?v=_zpYpeIREPE)"
   ]
  },
  {
   "cell_type": "code",
   "execution_count": null,
   "id": "c7e24e27",
   "metadata": {},
   "outputs": [
    {
     "name": "stdout",
     "output_type": "stream",
     "text": [
      "The length of the longest substring without repeating characters is 3\n"
     ]
    }
   ],
   "source": [
    "# This problem is solved by using two pinter and sliding window\n",
    "\n",
    "class Solution:\n",
    "    def lengthofLongestSubstring(self, s: str) -> int:\n",
    "        dictonary = {}\n",
    "\n",
    "\n",
    "        left = 0\n",
    "        right = 0\n",
    "        n = len(s)\n",
    "        maxlength = 0\n",
    "        while right < n: # O(n)\n",
    "            if s[right] in dictonary: # O(1)\n",
    "                left = max(dictonary[s[right]] + 1, left)\n",
    "\n",
    "            maxlength = max(maxlength, right - left + 1) # O(1)\n",
    "            dictonary[s[right]] = right\n",
    "            right += 1\n",
    "        return maxlength\n",
    "\n",
    "\n",
    "if __name__ == \"__main__\":\n",
    "    str = \"abcabcbb\"\n",
    "    obj = Solution()\n",
    "    print(\"The length of the longest substring without repeating characters is\",\n",
    "          obj.lengthofLongestSubstring(str))\n",
    "\n",
    "# Time Complexity O(n)\n",
    "# Space Complexity O(1)"
   ]
  },
  {
   "cell_type": "code",
   "execution_count": null,
   "id": "a9855243",
   "metadata": {},
   "outputs": [],
   "source": []
  }
 ],
 "metadata": {
  "kernelspec": {
   "display_name": ".venv",
   "language": "python",
   "name": "python3"
  },
  "language_info": {
   "codemirror_mode": {
    "name": "ipython",
    "version": 3
   },
   "file_extension": ".py",
   "mimetype": "text/x-python",
   "name": "python",
   "nbconvert_exporter": "python",
   "pygments_lexer": "ipython3",
   "version": "3.13.7"
  }
 },
 "nbformat": 4,
 "nbformat_minor": 5
}
