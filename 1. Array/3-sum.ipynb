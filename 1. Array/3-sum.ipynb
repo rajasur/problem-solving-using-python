{
 "cells": [
  {
   "cell_type": "markdown",
   "id": "afeb74e5",
   "metadata": {},
   "source": [
    "Given an integer array `nums`, return all the triplets `[nums[i], nums[j], nums[k]]` such that `i != j`, `i != k`, and `j != k`, and `nums[i] + nums[j] + nums[k] == 0`.\n",
    "\n",
    "Notice that the solution set must not contain duplicate triplets.\n",
    "\n",
    "---\n",
    "\n",
    "### Example 1:\n",
    "\n",
    "**Input:**  \n",
    "`nums = [-1,0,1,2,-1,-4]`  \n",
    "**Output:**  \n",
    "`[[-1,-1,2],[-1,0,1]]`\n",
    "\n",
    "**Explanation:**  \n",
    "- `nums[0] + nums[1] + nums[2] = (-1) + 0 + 1 = 0`\n",
    "- `nums[1] + nums[2] + nums[4] = 0 + 1 + (-1) = 0`\n",
    "- `nums[0] + nums[3] + nums[4] = (-1) + 2 + (-1) = 0`\n",
    "\n",
    "The distinct triplets are `[-1,0,1]` and `[-1,-1,2]`.  \n",
    "Notice that the order of the output and the order of the triplets does not matter.\n",
    "\n",
    "---\n",
    "\n",
    "### Example 2:\n",
    "\n",
    "**Input:**  \n",
    "`nums = [0,1,1]`  \n",
    "**Output:**  \n",
    "`[]`\n",
    "\n",
    "**Explanation:**  \n",
    "The only possible triplet does not sum up to 0.\n",
    "\n",
    "---\n",
    "\n",
    "### Example 3:\n",
    "\n",
    "**Input:**  \n",
    "`nums = [0,0,0]`  \n",
    "**Output:**  \n",
    "`[[0,0,0]]`\n",
    "\n",
    "**Explanation:**  \n",
    "The only possible triplet sums up to 0.\n",
    "\n",
    "---\n",
    "\n",
    "### Constraints\n",
    "\n",
    "- `3 <= nums.length <= 3000`\n",
    "- `-10^5 <= nums[i] <= 10^5`"
   ]
  },
  {
   "cell_type": "code",
   "execution_count": null,
   "id": "37f61304",
   "metadata": {},
   "outputs": [
    {
     "name": "stdout",
     "output_type": "stream",
     "text": [
      "[[-1, 0, 1], [-1, -1, 2]]\n"
     ]
    }
   ],
   "source": [
    "# Brute Force Approach\n",
    "# TC -> O(n^3)\n",
    "# SC -> O(No. of triplet) or approx O(1)\n",
    "\n",
    "from typing import List\n",
    "\n",
    "def three_sum(nums: List[int]) -> List:\n",
    "    n = len(nums)\n",
    "    my_result = set()\n",
    "\n",
    "    for i in range(n):\n",
    "        for j in range(i+1, n):\n",
    "            for k in range(j+1, n):\n",
    "                if nums[i]+ nums[j] + nums[k] == 0:\n",
    "                    temp = [nums[i], nums[j], nums[k]]\n",
    "                    temp.sort()\n",
    "                    my_result.add(tuple(temp))\n",
    "    return [list(ans) for ans in my_result]\n",
    "\n",
    "if __name__ == \"__main__\":\n",
    "\n",
    "    nums = [-1,0,1,2,-1,-4]\n",
    "    result = three_sum(nums)\n",
    "    print(result)"
   ]
  },
  {
   "cell_type": "code",
   "execution_count": 10,
   "id": "639ae7b5",
   "metadata": {},
   "outputs": [
    {
     "name": "stdout",
     "output_type": "stream",
     "text": [
      "[[-1, 0, 1], [-1, -1, 2]]\n"
     ]
    }
   ],
   "source": [
    "# Better Approach\n",
    "# TC -> O(n^3)\n",
    "# SC -> O(No. of triplet) or approx O(1)\n",
    "\n",
    "from typing import List \n",
    "\n",
    "class Solution:\n",
    "    def three_sum(self, arr: List[int]) -> List:\n",
    "        n = len(arr)\n",
    "        my_result = set()\n",
    "\n",
    "        for i in range(n):\n",
    "            temp = set()\n",
    "            for j in range(i+1, n):\n",
    "                third = -(arr[i] + arr[j])\n",
    "                if third in temp:\n",
    "                    triplet = [arr[i], arr[j], third]\n",
    "                    triplet.sort()\n",
    "                    my_result.add(tuple(triplet))\n",
    "                temp.add(arr[j])\n",
    "        return [list(ans) for ans in my_result]\n",
    "\n",
    "\n",
    "\n",
    "\n",
    "if __name__ == \"__main__\":\n",
    "\n",
    "    nums = [-1,0,1,2,-1,-4]\n",
    "    obj = Solution()\n",
    "    result = obj.three_sum(nums)\n",
    "    print(result)"
   ]
  },
  {
   "cell_type": "code",
   "execution_count": null,
   "id": "617f2984",
   "metadata": {},
   "outputs": [
    {
     "name": "stdout",
     "output_type": "stream",
     "text": [
      "[[-1, 0, 1], [-1, -1, 2]]\n"
     ]
    }
   ],
   "source": [
    "# Optimized Approach: Two Pointer Technique\n",
    "# Time Complexity: O(NlogN) for sorting + O(N^2) for two pointers\n",
    "# Space Complexity: O(Number of unique triplets) or approx O(1)\n",
    "\n",
    "from typing import List\n",
    "\n",
    "class Solution:\n",
    "    def three_sum(self, arr: List[int]) -> List[List[int]]:\n",
    "        n = len(arr)\n",
    "        arr.sort()  # Sort the array to use two pointers and skip duplicates\n",
    "        my_result = set()\n",
    "\n",
    "        for i in range(n):\n",
    "            # Skip duplicate elements for the first element of the triplet\n",
    "            if i != 0 and arr[i] == arr[i - 1]:\n",
    "                continue\n",
    "            j, k = i + 1, n - 1\n",
    "\n",
    "            while j < k:\n",
    "                triplet_sum = arr[i] + arr[j] + arr[k]\n",
    "\n",
    "                if triplet_sum < 0:\n",
    "                    j += 1  # Need a larger sum, move left pointer to the right\n",
    "                elif triplet_sum > 0:\n",
    "                    k -= 1  # Need a smaller sum, move right pointer to the left\n",
    "                else:\n",
    "                    # Found a valid triplet\n",
    "                    my_result.add((arr[i], arr[j], arr[k]))\n",
    "                    j += 1\n",
    "                    k -= 1\n",
    "\n",
    "                    # Skip duplicates for the second and third elements\n",
    "                    while j < k and arr[j] == arr[j - 1]:\n",
    "                        j += 1\n",
    "                    while j < k and arr[k] == arr[k + 1]:\n",
    "                        k -= 1\n",
    "\n",
    "        # Convert set of tuples to list of lists\n",
    "        return [list(ans) for ans in my_result]\n",
    "\n",
    "if __name__ == \"__main__\":\n",
    "    nums = [-1, 0, 1, 2, -1, -4]\n",
    "    obj = Solution()\n",
    "    result = obj.three_sum(nums)\n",
    "    print(result)"
   ]
  }
 ],
 "metadata": {
  "kernelspec": {
   "display_name": ".venv (3.13.7)",
   "language": "python",
   "name": "python3"
  },
  "language_info": {
   "codemirror_mode": {
    "name": "ipython",
    "version": 3
   },
   "file_extension": ".py",
   "mimetype": "text/x-python",
   "name": "python",
   "nbconvert_exporter": "python",
   "pygments_lexer": "ipython3",
   "version": "3.13.7"
  }
 },
 "nbformat": 4,
 "nbformat_minor": 5
}
