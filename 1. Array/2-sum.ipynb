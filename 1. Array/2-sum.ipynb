{
 "cells": [
  {
   "cell_type": "markdown",
   "id": "d02023c0",
   "metadata": {},
   "source": [
    "# 1. Two Sum\n",
    "\n",
    "**Difficulty:** Easy\n",
    "\n",
    "---\n",
    "\n",
    "Given an array of integers `nums` and an integer `target`, return indices of the two numbers such that they add up to `target`.\n",
    "\n",
    "You may assume that each input would have exactly one solution, and you may not use the same element twice.\n",
    "\n",
    "You can return the answer in any order.\n",
    "\n",
    "---\n",
    "\n",
    "## Example 1\n",
    "\n",
    "**Input:**  \n",
    "`nums = [2,7,11,15]`, `target = 9`  \n",
    "**Output:**  \n",
    "`[0,1]`  \n",
    "**Explanation:**  \n",
    "Because `nums[0] + nums[1] == 9`, we return `[0, 1]`.\n",
    "\n",
    "---\n",
    "\n",
    "## Example 2\n",
    "\n",
    "**Input:**  \n",
    "`nums = [3,2,4]`, `target = 6`  \n",
    "**Output:**  \n",
    "`[1,2]`\n",
    "\n",
    "---\n",
    "\n",
    "## Example 3\n",
    "\n",
    "**Input:**  \n",
    "`nums = [3,3]`, `target = 6`  \n",
    "**Output:**  \n",
    "`[0,1]`\n",
    "\n",
    "---\n",
    "\n",
    "## Constraints\n",
    "\n",
    "- `2 <= nums.length <= 10^4`\n",
    "- `-10^9 <= nums[i] <= 10^9`\n",
    "- `-10^9 <= target <= 10^9`\n",
    "- Only one valid answer exists.\n",
    "\n",
    "---\n",
    "\n",
    "**Follow-up:**  \n",
    "Can you come up with an algorithm that is less than O(n²) time complexity?"
   ]
  },
  {
   "cell_type": "code",
   "execution_count": null,
   "id": "8ecfa9a6",
   "metadata": {},
   "outputs": [
    {
     "name": "stdout",
     "output_type": "stream",
     "text": [
      "[0, 1]\n"
     ]
    }
   ],
   "source": [
    "# Bruteforce Approach\n",
    "# TC -> O(n^2)\n",
    "# SC -> O(1)\n",
    "\n",
    "from typing import List\n",
    "\n",
    "class Solution:\n",
    "    def two_sum(self, arr: List[int], target: int) -> List:\n",
    "        n = len(arr)\n",
    "\n",
    "        for i in range(n-1):\n",
    "            for j in range(i+1, n):\n",
    "\n",
    "                if arr[i] + arr[j] == target:\n",
    "                    return [i,j]\n",
    "                \n",
    "if __name__ == \"__main__\":\n",
    "    arr = [2,7,11,15]\n",
    "    target = 9\n",
    "\n",
    "    obj = Solution()\n",
    "    res = obj.two_sum(arr, target)\n",
    "    print(res)"
   ]
  },
  {
   "cell_type": "code",
   "execution_count": null,
   "id": "808032d7",
   "metadata": {},
   "outputs": [
    {
     "name": "stdout",
     "output_type": "stream",
     "text": [
      "[0, 1]\n"
     ]
    }
   ],
   "source": [
    "# Optimized Approach using Hash Map\n",
    "# Time Complexity (TC): O(n), where n is the length of the array\n",
    "# Space Complexity (SC): O(n), for storing elements in the hash map\n",
    "\n",
    "from typing import List\n",
    "\n",
    "class Solution:\n",
    "    def two_sum(self, arr: List[int], target: int) -> List:\n",
    "        n = len(arr)\n",
    "        hash_map = dict()  # Stores number as key and its index as value\n",
    "\n",
    "        for i in range(n):\n",
    "            remaining = target - arr[i]  # Find the complement\n",
    "\n",
    "            # If complement exists in hash_map, return indices\n",
    "            if remaining in hash_map:\n",
    "                return [hash_map[remaining], i]\n",
    "            # Store the current number and its index in hash_map\n",
    "            hash_map[arr[i]] = i \n",
    "\n",
    "if __name__ == \"__main__\":\n",
    "    arr = [2,7,11,15]\n",
    "    target = 9\n",
    "\n",
    "    obj = Solution()\n",
    "    res = obj.two_sum(arr, target)\n",
    "    print(res)"
   ]
  }
 ],
 "metadata": {
  "kernelspec": {
   "display_name": ".venv (3.13.7)",
   "language": "python",
   "name": "python3"
  },
  "language_info": {
   "codemirror_mode": {
    "name": "ipython",
    "version": 3
   },
   "file_extension": ".py",
   "mimetype": "text/x-python",
   "name": "python",
   "nbconvert_exporter": "python",
   "pygments_lexer": "ipython3",
   "version": "3.13.7"
  }
 },
 "nbformat": 4,
 "nbformat_minor": 5
}
